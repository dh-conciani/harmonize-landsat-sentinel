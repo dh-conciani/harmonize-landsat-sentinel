{
 "cells": [
  {
   "cell_type": "code",
   "execution_count": 2,
   "metadata": {
    "collapsed": false,
    "deletable": true,
    "editable": true
   },
   "outputs": [],
   "source": [
    "## Importar biblioteca do Earth Engine\n",
    "import ee \n",
    "ee.Initialize()\n",
    "\n",
    "## Importar biblioteca de correção geométrica do AROSICS\n",
    "from arosics import COREG \n",
    "\n",
    "## getInfo = request metadado para o servidor GEE"
   ]
  },
  {
   "cell_type": "code",
   "execution_count": 3,
   "metadata": {
    "collapsed": false,
    "deletable": true,
    "editable": true
   },
   "outputs": [],
   "source": [
    "## Definir parâmetros da coleção \n",
    "startDate = ee.Date('2019-09-05')                               ## Data inicial\n",
    "endDate = ee.Date('2019-10-15')                                 ## Data final \n",
    "geom = ee.Geometry.Point(-61.5775286643,-8.4852883834)          ## Ponto de referência espacial \n",
    "region = geom.buffer(20000).bounds().getInfo()['coordinates']   ## Extent da imagem (20km ao redor do ponto de referência)"
   ]
  },
  {
   "cell_type": "code",
   "execution_count": 4,
   "metadata": {
    "collapsed": false,
    "deletable": true,
    "editable": true,
    "scrolled": true
   },
   "outputs": [
    {
     "name": "stdout",
     "output_type": "stream",
     "text": [
      "collection structure : <class 'ee.imagecollection.ImageCollection'>\n",
      "list length: 7\n",
      "eg metadata : {'type': 'Image', 'bands': [{'id': 'B1', 'data_type': {'type': 'PixelType', 'precision': 'int', 'min': 0, 'max': 65535}, 'dimensions': [1830, 1830], 'crs': 'EPSG:32720', 'crs_transform': [60, 0, 600000, 0, -60, 9100000]}, {'id': 'B2', 'data_type': {'type': 'PixelType', 'precision': 'int', 'min': 0, 'max': 65535}, 'dimensions': [10980, 10980], 'crs': 'EPSG:32720', 'crs_transform': [10, 0, 600000, 0, -10, 9100000]}, {'id': 'B3', 'data_type': {'type': 'PixelType', 'precision': 'int', 'min': 0, 'max': 65535}, 'dimensions': [10980, 10980], 'crs': 'EPSG:32720', 'crs_transform': [10, 0, 600000, 0, -10, 9100000]}, {'id': 'B4', 'data_type': {'type': 'PixelType', 'precision': 'int', 'min': 0, 'max': 65535}, 'dimensions': [10980, 10980], 'crs': 'EPSG:32720', 'crs_transform': [10, 0, 600000, 0, -10, 9100000]}, {'id': 'B5', 'data_type': {'type': 'PixelType', 'precision': 'int', 'min': 0, 'max': 65535}, 'dimensions': [5490, 5490], 'crs': 'EPSG:32720', 'crs_transform': [20, 0, 600000, 0, -20, 9100000]}, {'id': 'B6', 'data_type': {'type': 'PixelType', 'precision': 'int', 'min': 0, 'max': 65535}, 'dimensions': [5490, 5490], 'crs': 'EPSG:32720', 'crs_transform': [20, 0, 600000, 0, -20, 9100000]}, {'id': 'B7', 'data_type': {'type': 'PixelType', 'precision': 'int', 'min': 0, 'max': 65535}, 'dimensions': [5490, 5490], 'crs': 'EPSG:32720', 'crs_transform': [20, 0, 600000, 0, -20, 9100000]}, {'id': 'B8', 'data_type': {'type': 'PixelType', 'precision': 'int', 'min': 0, 'max': 65535}, 'dimensions': [10980, 10980], 'crs': 'EPSG:32720', 'crs_transform': [10, 0, 600000, 0, -10, 9100000]}, {'id': 'B8A', 'data_type': {'type': 'PixelType', 'precision': 'int', 'min': 0, 'max': 65535}, 'dimensions': [5490, 5490], 'crs': 'EPSG:32720', 'crs_transform': [20, 0, 600000, 0, -20, 9100000]}, {'id': 'B9', 'data_type': {'type': 'PixelType', 'precision': 'int', 'min': 0, 'max': 65535}, 'dimensions': [1830, 1830], 'crs': 'EPSG:32720', 'crs_transform': [60, 0, 600000, 0, -60, 9100000]}, {'id': 'B10', 'data_type': {'type': 'PixelType', 'precision': 'int', 'min': 0, 'max': 65535}, 'dimensions': [1830, 1830], 'crs': 'EPSG:32720', 'crs_transform': [60, 0, 600000, 0, -60, 9100000]}, {'id': 'B11', 'data_type': {'type': 'PixelType', 'precision': 'int', 'min': 0, 'max': 65535}, 'dimensions': [5490, 5490], 'crs': 'EPSG:32720', 'crs_transform': [20, 0, 600000, 0, -20, 9100000]}, {'id': 'B12', 'data_type': {'type': 'PixelType', 'precision': 'int', 'min': 0, 'max': 65535}, 'dimensions': [5490, 5490], 'crs': 'EPSG:32720', 'crs_transform': [20, 0, 600000, 0, -20, 9100000]}, {'id': 'QA10', 'data_type': {'type': 'PixelType', 'precision': 'int', 'min': 0, 'max': 65535}, 'dimensions': [10980, 10980], 'crs': 'EPSG:32720', 'crs_transform': [10, 0, 600000, 0, -10, 9100000]}, {'id': 'QA20', 'data_type': {'type': 'PixelType', 'precision': 'int', 'min': 0, 'max': 4294967295}, 'dimensions': [5490, 5490], 'crs': 'EPSG:32720', 'crs_transform': [20, 0, 600000, 0, -20, 9100000]}, {'id': 'QA60', 'data_type': {'type': 'PixelType', 'precision': 'int', 'min': 0, 'max': 65535}, 'dimensions': [1830, 1830], 'crs': 'EPSG:32720', 'crs_transform': [60, 0, 600000, 0, -60, 9100000]}], 'id': 'COPERNICUS/S2/20190913T142751_20190913T142751_T20LPR', 'version': 1568538166238416, 'properties': {'DATATAKE_IDENTIFIER': 'GS2A_20190913T142751_022072_N02.08', 'SPACECRAFT_NAME': 'Sentinel-2A', 'MEAN_INCIDENCE_AZIMUTH_ANGLE_B8A': 284.190146746, 'MEAN_SOLAR_AZIMUTH_ANGLE': 61.1941488337, 'system:footprint': {'type': 'LinearRing', 'coordinates': [[-61.302975579323274, -9.131135262550936], [-61.30295760434432, -9.131121376075866], [-61.30277651989151, -9.130939682989686], [-61.30275596437195, -9.130911337214533], [-61.29455719165502, -9.094150130764428], [-61.243106070147014, -8.860285496282561], [-61.17044791498384, -8.528772184333423], [-61.09785711294455, -8.197266406473446], [-61.09572372035826, -8.187482813702179], [-61.09596019970284, -8.137569656906056], [-61.096030939178135, -8.137479986348524], [-62.09227454558746, -8.140929390848823], [-62.092365285951665, -8.140999209915831], [-62.091212216223475, -8.637457734104427], [-62.08998835045795, -9.13388282985367], [-62.089917636480706, -9.133972666544722], [-61.30302220749586, -9.131148198590651], [-61.302975579323274, -9.131135262550936]]}, 'SOLAR_IRRADIANCE_B12': 85.25, 'SOLAR_IRRADIANCE_B10': 367.15, 'SENSOR_QUALITY': 'PASSED', 'SOLAR_IRRADIANCE_B11': 245.59, 'GENERATION_TIME': 1568390858000, 'SOLAR_IRRADIANCE_B8A': 955.32, 'FORMAT_CORRECTNESS': 'PASSED', 'CLOUD_COVERAGE_ASSESSMENT': 0.0698, 'system:time_end': 1568385303911, 'system:time_start': 1568385303911, 'DATASTRIP_ID': 'S2A_OPER_MSI_L1C_DS_SGS__20190913T160738_S20190913T142751_N02.08', 'PROCESSING_BASELINE': '02.08', 'SENSING_ORBIT_NUMBER': 53, 'SENSING_ORBIT_DIRECTION': 'DESCENDING', 'GENERAL_QUALITY': 'PASSED', 'GRANULE_ID': 'L1C_T20LPR_A022072_20190913T142751', 'REFLECTANCE_CONVERSION_CORRECTION': 0.986362842359, 'MEAN_INCIDENCE_AZIMUTH_ANGLE_B8': 284.245763739, 'DATATAKE_TYPE': 'INS-NOBS', 'MEAN_INCIDENCE_AZIMUTH_ANGLE_B9': 284.098672988, 'MEAN_INCIDENCE_AZIMUTH_ANGLE_B6': 284.207671409, 'MEAN_INCIDENCE_AZIMUTH_ANGLE_B7': 284.191177805, 'MEAN_INCIDENCE_AZIMUTH_ANGLE_B4': 284.211799296, 'MEAN_INCIDENCE_ZENITH_ANGLE_B1': 8.13128306325, 'MEAN_INCIDENCE_AZIMUTH_ANGLE_B5': 284.211525315, 'RADIOMETRIC_QUALITY': 'PASSED', 'MEAN_INCIDENCE_AZIMUTH_ANGLE_B2': 284.268286572, 'MEAN_INCIDENCE_AZIMUTH_ANGLE_B3': 284.223756299, 'MEAN_INCIDENCE_ZENITH_ANGLE_B5': 8.01384336049, 'MEAN_INCIDENCE_AZIMUTH_ANGLE_B1': 284.103505373, 'MEAN_INCIDENCE_ZENITH_ANGLE_B4': 7.98682188693, 'MEAN_INCIDENCE_ZENITH_ANGLE_B3': 7.93538594613, 'MEAN_INCIDENCE_ZENITH_ANGLE_B2': 7.90772341194, 'MEAN_INCIDENCE_ZENITH_ANGLE_B9': 8.16802045341, 'MEAN_INCIDENCE_ZENITH_ANGLE_B8': 7.92016947901, 'MEAN_INCIDENCE_ZENITH_ANGLE_B7': 8.067578327, 'MEAN_INCIDENCE_ZENITH_ANGLE_B6': 8.03940841214, 'MEAN_SOLAR_ZENITH_ANGLE': 25.0322428173, 'MEAN_INCIDENCE_ZENITH_ANGLE_B8A': 8.09831454993, 'MGRS_TILE': '20LPR', 'CLOUDY_PIXEL_PERCENTAGE': 0.0698, 'PRODUCT_ID': 'S2A_MSIL1C_20190913T142751_N0208_R053_T20LPR_20190913T160738', 'MEAN_INCIDENCE_ZENITH_ANGLE_B10': 7.97931970037, 'SOLAR_IRRADIANCE_B9': 812.92, 'DEGRADED_MSI_DATA_PERCENTAGE': 0, 'MEAN_INCIDENCE_ZENITH_ANGLE_B11': 8.03499981901, 'MEAN_INCIDENCE_ZENITH_ANGLE_B12': 8.1056303053, 'SOLAR_IRRADIANCE_B6': 1287.61, 'MEAN_INCIDENCE_AZIMUTH_ANGLE_B10': 284.156937279, 'SOLAR_IRRADIANCE_B5': 1424.64, 'MEAN_INCIDENCE_AZIMUTH_ANGLE_B11': 284.146272929, 'SOLAR_IRRADIANCE_B8': 1041.63, 'MEAN_INCIDENCE_AZIMUTH_ANGLE_B12': 284.067928882, 'SOLAR_IRRADIANCE_B7': 1162.08, 'SOLAR_IRRADIANCE_B2': 1959.72, 'SOLAR_IRRADIANCE_B1': 1884.69, 'SOLAR_IRRADIANCE_B4': 1512.06, 'GEOMETRIC_QUALITY': 'PASSED', 'SOLAR_IRRADIANCE_B3': 1823.24, 'system:asset_size': 1013964034, 'system:index': '20190913T142751_20190913T142751_T20LPR'}}\n"
     ]
    }
   ],
   "source": [
    "## Importar uma coleção Sentinel\n",
    "sentinel_collection = ee.ImageCollection('COPERNICUS/S2').filterBounds(geom).filterDate(startDate,endDate).filter(ee.Filter.lt('CLOUDY_PIXEL_PERCENTAGE',100))\n",
    "print ('collection structure :', type(sentinel_collection))\n",
    "print ('list length:', sentinel_collection.size().getInfo())\n",
    "\n",
    "## Passar os metadados de acesso para uma lista JSON\n",
    "sentinel_list = sentinel_collection.toList(sentinel_collection.size().getInfo())\n",
    "print ('eg metadata :', sentinel_list.get(1).getInfo())\n"
   ]
  },
  {
   "cell_type": "code",
   "execution_count": 76,
   "metadata": {
    "collapsed": false,
    "deletable": true,
    "editable": true
   },
   "outputs": [],
   "source": [
    "## Carregar imagens\n",
    "ref_image = ee.Image(sentinel_list.get(2))  ## Imagem de referência\n",
    "tgt_image = ee.Image(sentinel_list.get(1))  ## Imagem target"
   ]
  },
  {
   "cell_type": "code",
   "execution_count": 79,
   "metadata": {
    "collapsed": false,
    "deletable": true,
    "editable": true
   },
   "outputs": [
    {
     "ename": "ValueError",
     "evalue": "GeoArray_CoReg parameter 'arg' takes only string, np.ndarray or GeoArray(and subclass) instances. Got <class 'ee.image.Image'>.",
     "output_type": "error",
     "traceback": [
      "\u001b[1;31m---------------------------------------------------------------------------\u001b[0m",
      "\u001b[1;31mValueError\u001b[0m                                Traceback (most recent call last)",
      "\u001b[1;32m<ipython-input-79-88fd4406addb>\u001b[0m in \u001b[0;36m<module>\u001b[1;34m\u001b[0m\n\u001b[1;32m----> 1\u001b[1;33m \u001b[0mCR\u001b[0m \u001b[1;33m=\u001b[0m \u001b[0mCOREG\u001b[0m\u001b[1;33m(\u001b[0m\u001b[0mref_image\u001b[0m\u001b[1;33m,\u001b[0m \u001b[0mtgt_image\u001b[0m\u001b[1;33m)\u001b[0m\u001b[1;33m\u001b[0m\u001b[1;33m\u001b[0m\u001b[0m\n\u001b[0m\u001b[0;32m      2\u001b[0m \u001b[0mCR\u001b[0m\u001b[1;33m.\u001b[0m\u001b[0mcalculate_spatial_shifts\u001b[0m\u001b[1;33m(\u001b[0m\u001b[1;33m)\u001b[0m\u001b[1;33m\u001b[0m\u001b[1;33m\u001b[0m\u001b[0m\n\u001b[0;32m      3\u001b[0m \u001b[0mgeoRef\u001b[0m \u001b[1;33m=\u001b[0m \u001b[0mCR\u001b[0m\u001b[1;33m.\u001b[0m\u001b[0mcorrect_shifts\u001b[0m\u001b[1;33m(\u001b[0m\u001b[1;33m)\u001b[0m\u001b[1;33m\u001b[0m\u001b[1;33m\u001b[0m\u001b[0m\n",
      "\u001b[1;32m~\\anaconda3\\envs\\arosics\\lib\\site-packages\\arosics\\CoReg.py\u001b[0m in \u001b[0;36m__init__\u001b[1;34m(self, im_ref, im_tgt, path_out, fmt_out, out_crea_options, r_b4match, s_b4match, wp, ws, max_iter, max_shift, align_grids, match_gsd, out_gsd, target_xyGrid, resamp_alg_deshift, resamp_alg_calc, footprint_poly_ref, footprint_poly_tgt, data_corners_ref, data_corners_tgt, nodata, calc_corners, binary_ws, mask_baddata_ref, mask_baddata_tgt, CPUs, force_quadratic_win, progress, v, path_verbose_out, q, ignore_errors)\u001b[0m\n\u001b[0;32m    308\u001b[0m \u001b[1;33m\u001b[0m\u001b[0m\n\u001b[0;32m    309\u001b[0m         \u001b[0mgdal\u001b[0m\u001b[1;33m.\u001b[0m\u001b[0mAllRegister\u001b[0m\u001b[1;33m(\u001b[0m\u001b[1;33m)\u001b[0m\u001b[1;33m\u001b[0m\u001b[1;33m\u001b[0m\u001b[0m\n\u001b[1;32m--> 310\u001b[1;33m         \u001b[0mself\u001b[0m\u001b[1;33m.\u001b[0m\u001b[0m_get_image_params\u001b[0m\u001b[1;33m(\u001b[0m\u001b[1;33m)\u001b[0m\u001b[1;33m\u001b[0m\u001b[1;33m\u001b[0m\u001b[0m\n\u001b[0m\u001b[0;32m    311\u001b[0m         \u001b[0mself\u001b[0m\u001b[1;33m.\u001b[0m\u001b[0m_set_outpathes\u001b[0m\u001b[1;33m(\u001b[0m\u001b[0mim_ref\u001b[0m\u001b[1;33m,\u001b[0m \u001b[0mim_tgt\u001b[0m\u001b[1;33m)\u001b[0m\u001b[1;33m\u001b[0m\u001b[1;33m\u001b[0m\u001b[0m\n\u001b[0;32m    312\u001b[0m         \u001b[0mself\u001b[0m\u001b[1;33m.\u001b[0m\u001b[0mgrid2use\u001b[0m \u001b[1;33m=\u001b[0m \u001b[1;34m'ref'\u001b[0m \u001b[1;32mif\u001b[0m \u001b[0mself\u001b[0m\u001b[1;33m.\u001b[0m\u001b[0mshift\u001b[0m\u001b[1;33m.\u001b[0m\u001b[0mxgsd\u001b[0m \u001b[1;33m<=\u001b[0m \u001b[0mself\u001b[0m\u001b[1;33m.\u001b[0m\u001b[0mref\u001b[0m\u001b[1;33m.\u001b[0m\u001b[0mxgsd\u001b[0m \u001b[1;32melse\u001b[0m \u001b[1;34m'shift'\u001b[0m\u001b[1;33m\u001b[0m\u001b[1;33m\u001b[0m\u001b[0m\n",
      "\u001b[1;32m~\\anaconda3\\envs\\arosics\\lib\\site-packages\\arosics\\CoReg.py\u001b[0m in \u001b[0;36m_get_image_params\u001b[1;34m(self)\u001b[0m\n\u001b[0;32m    440\u001b[0m \u001b[1;33m\u001b[0m\u001b[0m\n\u001b[0;32m    441\u001b[0m     \u001b[1;32mdef\u001b[0m \u001b[0m_get_image_params\u001b[0m\u001b[1;33m(\u001b[0m\u001b[0mself\u001b[0m\u001b[1;33m)\u001b[0m\u001b[1;33m:\u001b[0m\u001b[1;33m\u001b[0m\u001b[1;33m\u001b[0m\u001b[0m\n\u001b[1;32m--> 442\u001b[1;33m         \u001b[0mself\u001b[0m\u001b[1;33m.\u001b[0m\u001b[0mref\u001b[0m \u001b[1;33m=\u001b[0m \u001b[0mGeoArray_CoReg\u001b[0m\u001b[1;33m(\u001b[0m\u001b[0mself\u001b[0m\u001b[1;33m.\u001b[0m\u001b[0mparams\u001b[0m\u001b[1;33m,\u001b[0m \u001b[1;34m'ref'\u001b[0m\u001b[1;33m)\u001b[0m\u001b[1;33m\u001b[0m\u001b[1;33m\u001b[0m\u001b[0m\n\u001b[0m\u001b[0;32m    443\u001b[0m         \u001b[0mself\u001b[0m\u001b[1;33m.\u001b[0m\u001b[0mshift\u001b[0m \u001b[1;33m=\u001b[0m \u001b[0mGeoArray_CoReg\u001b[0m\u001b[1;33m(\u001b[0m\u001b[0mself\u001b[0m\u001b[1;33m.\u001b[0m\u001b[0mparams\u001b[0m\u001b[1;33m,\u001b[0m \u001b[1;34m'shift'\u001b[0m\u001b[1;33m)\u001b[0m\u001b[1;33m\u001b[0m\u001b[1;33m\u001b[0m\u001b[0m\n\u001b[0;32m    444\u001b[0m \u001b[1;33m\u001b[0m\u001b[0m\n",
      "\u001b[1;32m~\\anaconda3\\envs\\arosics\\lib\\site-packages\\arosics\\CoReg.py\u001b[0m in \u001b[0;36m__init__\u001b[1;34m(self, CoReg_params, imID)\u001b[0m\n\u001b[0;32m     75\u001b[0m         \u001b[0mq\u001b[0m \u001b[1;33m=\u001b[0m \u001b[0mCoReg_params\u001b[0m\u001b[1;33m[\u001b[0m\u001b[1;34m'q'\u001b[0m\u001b[1;33m]\u001b[0m \u001b[1;32mif\u001b[0m \u001b[1;32mnot\u001b[0m \u001b[0mCoReg_params\u001b[0m\u001b[1;33m[\u001b[0m\u001b[1;34m'v'\u001b[0m\u001b[1;33m]\u001b[0m \u001b[1;32melse\u001b[0m \u001b[1;32mFalse\u001b[0m\u001b[1;33m\u001b[0m\u001b[1;33m\u001b[0m\u001b[0m\n\u001b[0;32m     76\u001b[0m \u001b[1;33m\u001b[0m\u001b[0m\n\u001b[1;32m---> 77\u001b[1;33m         \u001b[0msuper\u001b[0m\u001b[1;33m(\u001b[0m\u001b[0mGeoArray_CoReg\u001b[0m\u001b[1;33m,\u001b[0m \u001b[0mself\u001b[0m\u001b[1;33m)\u001b[0m\u001b[1;33m.\u001b[0m\u001b[0m__init__\u001b[0m\u001b[1;33m(\u001b[0m\u001b[0mpath_or_geoArr\u001b[0m\u001b[1;33m,\u001b[0m \u001b[0mnodata\u001b[0m\u001b[1;33m=\u001b[0m\u001b[0mnodata\u001b[0m\u001b[1;33m,\u001b[0m \u001b[0mprogress\u001b[0m\u001b[1;33m=\u001b[0m\u001b[0mprogress\u001b[0m\u001b[1;33m,\u001b[0m \u001b[0mq\u001b[0m\u001b[1;33m=\u001b[0m\u001b[0mq\u001b[0m\u001b[1;33m)\u001b[0m\u001b[1;33m\u001b[0m\u001b[1;33m\u001b[0m\u001b[0m\n\u001b[0m\u001b[0;32m     78\u001b[0m \u001b[1;33m\u001b[0m\u001b[0m\n\u001b[0;32m     79\u001b[0m         \u001b[0mself\u001b[0m\u001b[1;33m.\u001b[0m\u001b[0mimID\u001b[0m \u001b[1;33m=\u001b[0m \u001b[0mimID\u001b[0m\u001b[1;33m\u001b[0m\u001b[1;33m\u001b[0m\u001b[0m\n",
      "\u001b[1;32m~\\anaconda3\\envs\\arosics\\lib\\site-packages\\geoarray\\baseclasses.py\u001b[0m in \u001b[0;36m__init__\u001b[1;34m(self, path_or_array, geotransform, projection, bandnames, nodata, progress, q)\u001b[0m\n\u001b[0;32m    102\u001b[0m            issubclass(getattr(path_or_array, '__class__'), GeoArray)):\n\u001b[0;32m    103\u001b[0m             raise ValueError(\"%s parameter 'arg' takes only string, np.ndarray or GeoArray(and subclass) instances. \"\n\u001b[1;32m--> 104\u001b[1;33m                              \"Got %s.\" % (self.__class__.__name__, type(path_or_array)))\n\u001b[0m\u001b[0;32m    105\u001b[0m \u001b[1;33m\u001b[0m\u001b[0m\n\u001b[0;32m    106\u001b[0m         \u001b[1;32mif\u001b[0m \u001b[0mpath_or_array\u001b[0m \u001b[1;32mis\u001b[0m \u001b[1;32mNone\u001b[0m\u001b[1;33m:\u001b[0m\u001b[1;33m\u001b[0m\u001b[1;33m\u001b[0m\u001b[0m\n",
      "\u001b[1;31mValueError\u001b[0m: GeoArray_CoReg parameter 'arg' takes only string, np.ndarray or GeoArray(and subclass) instances. Got <class 'ee.image.Image'>."
     ]
    }
   ],
   "source": [
    "CR = COREG(ref_image, tgt_image)\n",
    "CR.calculate_spatial_shifts()\n",
    "geoRef = CR.correct_shifts()"
   ]
  },
  {
   "cell_type": "code",
   "execution_count": null,
   "metadata": {
    "collapsed": true,
    "deletable": true,
    "editable": true
   },
   "outputs": [],
   "source": []
  },
  {
   "cell_type": "code",
   "execution_count": null,
   "metadata": {
    "collapsed": true,
    "deletable": true,
    "editable": true
   },
   "outputs": [],
   "source": []
  }
 ],
 "metadata": {
  "kernelspec": {
   "display_name": "Python 3",
   "language": "python",
   "name": "python3"
  },
  "language_info": {
   "codemirror_mode": {
    "name": "ipython",
    "version": 3
   },
   "file_extension": ".py",
   "mimetype": "text/x-python",
   "name": "python",
   "nbconvert_exporter": "python",
   "pygments_lexer": "ipython3",
   "version": "3.6.10"
  }
 },
 "nbformat": 4,
 "nbformat_minor": 4
}
