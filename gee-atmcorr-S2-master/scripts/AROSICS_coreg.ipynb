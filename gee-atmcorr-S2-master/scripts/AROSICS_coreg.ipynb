{
 "cells": [
  {
   "cell_type": "code",
   "execution_count": 4,
   "metadata": {
    "collapsed": false,
    "deletable": true,
    "editable": true
   },
   "outputs": [],
   "source": [
    "import ee\n",
    "import glob\n",
    "from pathlib import Path\n",
    "from arosics import COREG\n",
    "import rpy2\n",
    "from rpy2.robjects.packages import importr\n",
    "import rpy2.robjects as ro\n",
    "utils = importr('utils')"
   ]
  },
  {
   "cell_type": "code",
   "execution_count": 24,
   "metadata": {
    "collapsed": false,
    "deletable": true,
    "editable": true
   },
   "outputs": [
    {
     "data": {
      "text/plain": [
       "rpy2.rinterface.NULL"
      ]
     },
     "execution_count": 24,
     "metadata": {},
     "output_type": "execute_result"
    }
   ],
   "source": [
    "## Install packages\n",
    "#utils.install_packages('raster')\n",
    "#utils.install_packages('filesstrings')\n",
    "#utils.install_packages('Rcpp')\n",
    "#utils.install_packages('rgdal')"
   ]
  },
  {
   "cell_type": "code",
   "execution_count": 6,
   "metadata": {
    "collapsed": false,
    "deletable": true,
    "editable": true
   },
   "outputs": [],
   "source": [
    "base = importr ('base')\n",
    "filesstrings = importr ('filesstrings')\n",
    "raster = importr ('raster')\n",
    "rgdal = importr ('rgdal')"
   ]
  },
  {
   "cell_type": "code",
   "execution_count": 7,
   "metadata": {
    "collapsed": false,
    "deletable": true,
    "editable": true
   },
   "outputs": [
    {
     "name": "stdout",
     "output_type": "stream",
     "text": [
      "done :)\n"
     ]
    }
   ],
   "source": [
    "## Pre-process Landsat 7 Scenes\n",
    "## Define Landsat Path\n",
    "ro.r('path <- \"C:/Users/BSD/Desktop/arosics/gee-atmcorr-S2-master/images/1_6s_BOA/\"')\n",
    "\n",
    "## Move original files to a _temp folder (maintain files to inspect results)\n",
    "ro.r('file.move(list.files(path, pattern = \"LE07_\", full.names = TRUE), paste0(path, \"/_temp\"))')\n",
    "\n",
    "## Create files list from temporary path\n",
    "ro.r('landsat7_list <- list.files(paste0(path,\"/_temp\"), full.names=TRUE)')\n",
    "ro.r('landsat7_name <- list.files(paste0(path,\"/_temp\"), full.names=FALSE)')\n",
    "\n",
    "## Create 'new' Landsat 7 files on initial path\n",
    "ro.r('for (i in 1:length(landsat7_list)) { writeRaster(stack(landsat7_list[i]), paste0(path,landsat7_name[i]), overwrite= TRUE)}')\n",
    " \n",
    "print (\"done :)\")"
   ]
  },
  {
   "cell_type": "code",
   "execution_count": 2,
   "metadata": {
    "collapsed": false,
    "deletable": true,
    "editable": true
   },
   "outputs": [
    {
     "name": "stdout",
     "output_type": "stream",
     "text": [
      "Calculating actual data corner coordinates for reference image...\n",
      "Bounding box of calculated footprint for reference image:\n",
      "\t(647200.0, 9058820.0, 666000.0, 9064720.0)\n",
      "Calculating actual data corner coordinates for image to be shifted...\n",
      "Bounding box of calculated footprint for image to be shifted:\n",
      "\t(647200.0, 9058820.0, 666000.0, 9064720.0)\n",
      "Matching window position (X,Y): 656600.0/9061770.0\n",
      "Detected integer shifts (X/Y):                            0/0\n",
      "Detected subpixel shifts (X/Y):                           0.06349313837314827/-0.12091019189951252\n",
      "Calculated total shifts in fft pixel units (X/Y):         0.06349313837314827/-0.12091019189951252\n",
      "Calculated total shifts in reference pixel units (X/Y):   0.06349313837314827/-0.12091019189951252\n",
      "Calculated total shifts in target pixel units (X/Y):      0.06349313837314827/-0.12091019189951252\n",
      "Calculated map shifts (X,Y):\t\t\t\t  1.2698627674253657/2.4182038381695747\n",
      "Calculated absolute shift vector length in map units:     2.7313478817300574\n",
      "Calculated angle of shift vector in degrees from North:   207.70515157631638\n",
      "Original map info: ['UTM', 1.0, 1.0, 647200.0, 9064720.0, 20.0, 20.0, -20, 'South', 'WGS-84']\n",
      "Updated map info:  ['UTM', 1.0, 1.0, '647201.2698627674', '9064722.418203838', 20.0, 20.0, -20, 'South', 'WGS-84']\n"
     ]
    },
    {
     "name": "stderr",
     "output_type": "stream",
     "text": [
      "C:\\Users\\BSD\\anaconda3\\envs\\arosics\\lib\\site-packages\\py_tools_ds\\similarity\\raster.py:44: UserWarning: DEPRECATED: skimage.measure.compare_ssim has been moved to skimage.metrics.structural_similarity. It will be removed from skimage.measure in version 0.18.\n",
      "  return ssim(image0, image1, data_range=dynamic_range, win_size=win_size, gaussian_weights=gaussian_weights)\n"
     ]
    },
    {
     "name": "stdout",
     "output_type": "stream",
     "text": [
      "Image similarity within the matching window (SSIM before/after correction): 0.8953 => 0.8983\n",
      "Estimated reliability of the calculated shifts:  95.3 %\n"
     ]
    },
    {
     "name": "stderr",
     "output_type": "stream",
     "text": [
      "\r",
      "Warping progress     |--------------------------------------------------| 0.0% Complete  => 0:00:00"
     ]
    },
    {
     "name": "stdout",
     "output_type": "stream",
     "text": [
      "Correcting geometric shifts...\n"
     ]
    },
    {
     "name": "stderr",
     "output_type": "stream",
     "text": [
      "Warping progress     |==================================================| 100.0% Complete  => 0:00:00\n"
     ]
    },
    {
     "name": "stdout",
     "output_type": "stream",
     "text": [
      "Writing GeoArray of size (295, 940, 6) to C:/Users/BSD/Desktop/arosics/gee-atmcorr-S2-master/images/2_arosics_GEOM/L1C_T20LPR_A012663_20190809T142759_BOA_GEOM.tif.\n",
      "Calculating actual data corner coordinates for reference image...\n",
      "Bounding box of calculated footprint for reference image:\n",
      "\t(647200.0, 9058820.0, 666000.0, 9064720.0)\n",
      "Calculating actual data corner coordinates for image to be shifted...\n",
      "Bounding box of calculated footprint for image to be shifted:\n",
      "\t(647200.0, 9058820.0, 666000.0, 9064720.0)\n",
      "Matching window position (X,Y): 656600.0/9061770.0\n",
      "Detected integer shifts (X/Y):                            0/0\n",
      "Detected subpixel shifts (X/Y):                           -5.010503190467829e-11/-3.0666858114140897e-10\n",
      "Calculated total shifts in fft pixel units (X/Y):         -5.010503190467829e-11/-3.0666858114140897e-10\n",
      "Calculated total shifts in reference pixel units (X/Y):   -5.010503190467829e-11/-3.0666858114140897e-10\n",
      "Calculated total shifts in target pixel units (X/Y):      -5.010503190467829e-11/-3.0666858114140897e-10\n",
      "Calculated map shifts (X,Y):\t\t\t\t  -1.0477378964424133e-09/5.587935447692871e-09\n",
      "Calculated absolute shift vector length in map units:     5.685312415973646e-09\n",
      "Calculated angle of shift vector in degrees from North:   170.72072104098777\n",
      "Original map info: ['UTM', 1.0, 1.0, 647200.0, 9064720.0, 20.0, 20.0, -20, 'South', 'WGS-84']\n",
      "Updated map info:  ['UTM', 1.0, 1.0, '647199.999999999', '9064720.000000006', 20.0, 20.0, -20, 'South', 'WGS-84']\n"
     ]
    },
    {
     "name": "stderr",
     "output_type": "stream",
     "text": [
      "C:\\Users\\BSD\\anaconda3\\envs\\arosics\\lib\\site-packages\\py_tools_ds\\similarity\\raster.py:44: UserWarning: DEPRECATED: skimage.measure.compare_ssim has been moved to skimage.metrics.structural_similarity. It will be removed from skimage.measure in version 0.18.\n",
      "  return ssim(image0, image1, data_range=dynamic_range, win_size=win_size, gaussian_weights=gaussian_weights)\n"
     ]
    },
    {
     "name": "stdout",
     "output_type": "stream",
     "text": [
      "Image similarity within the matching window (SSIM before/after correction): 1.0000 => 1.0000\n",
      "Estimated reliability of the calculated shifts:  100.0 %\n"
     ]
    },
    {
     "name": "stderr",
     "output_type": "stream",
     "text": [
      "\r",
      "Warping progress     |--------------------------------------------------| 0.0% Complete  => 0:00:00"
     ]
    },
    {
     "name": "stdout",
     "output_type": "stream",
     "text": [
      "Correcting geometric shifts...\n"
     ]
    },
    {
     "name": "stderr",
     "output_type": "stream",
     "text": [
      "Warping progress     |==================================================| 100.0% Complete  => 0:00:00\n"
     ]
    },
    {
     "name": "stdout",
     "output_type": "stream",
     "text": [
      "Writing GeoArray of size (295, 940, 6) to C:/Users/BSD/Desktop/arosics/gee-atmcorr-S2-master/images/2_arosics_GEOM/L1C_T20LPR_A012806_20190819T142758_BOA_GEOM.tif.\n",
      "Calculating actual data corner coordinates for reference image...\n",
      "Bounding box of calculated footprint for reference image:\n",
      "\t(647200.0, 9058820.0, 666000.0, 9064720.0)\n",
      "Calculating actual data corner coordinates for image to be shifted...\n",
      "Bounding box of calculated footprint for image to be shifted:\n",
      "\t(647200.0, 9058820.0, 666000.0, 9064720.0)\n",
      "Matching window position (X,Y): 656600.0/9061770.0\n",
      "Detected integer shifts (X/Y):                            0/0\n",
      "Detected subpixel shifts (X/Y):                           -0.0832290222722999/0.1775295740010875\n",
      "Calculated total shifts in fft pixel units (X/Y):         -0.0832290222722999/0.1775295740010875\n",
      "Calculated total shifts in reference pixel units (X/Y):   -0.0832290222722999/0.1775295740010875\n",
      "Calculated total shifts in target pixel units (X/Y):      -0.0832290222722999/0.1775295740010875\n",
      "Calculated map shifts (X,Y):\t\t\t\t  -1.664580445503816/-3.550591479986906\n",
      "Calculated absolute shift vector length in map units:     3.9214191203324966\n",
      "Calculated angle of shift vector in degrees from North:   25.118019118181316\n",
      "Original map info: ['UTM', 1.0, 1.0, 647200.0, 9064720.0, 20.0, 20.0, -20, 'South', 'WGS-84']\n",
      "Updated map info:  ['UTM', 1.0, 1.0, '647198.3354195545', '9064716.44940852', 20.0, 20.0, -20, 'South', 'WGS-84']\n"
     ]
    },
    {
     "name": "stderr",
     "output_type": "stream",
     "text": [
      "C:\\Users\\BSD\\anaconda3\\envs\\arosics\\lib\\site-packages\\py_tools_ds\\similarity\\raster.py:44: UserWarning: DEPRECATED: skimage.measure.compare_ssim has been moved to skimage.metrics.structural_similarity. It will be removed from skimage.measure in version 0.18.\n",
      "  return ssim(image0, image1, data_range=dynamic_range, win_size=win_size, gaussian_weights=gaussian_weights)\n"
     ]
    },
    {
     "name": "stdout",
     "output_type": "stream",
     "text": [
      "Image similarity within the matching window (SSIM before/after correction): 0.9436 => 0.9485\n",
      "Estimated reliability of the calculated shifts:  95.1 %\n"
     ]
    },
    {
     "name": "stderr",
     "output_type": "stream",
     "text": [
      "\r",
      "Warping progress     |--------------------------------------------------| 0.0% Complete  => 0:00:00"
     ]
    },
    {
     "name": "stdout",
     "output_type": "stream",
     "text": [
      "Correcting geometric shifts...\n"
     ]
    },
    {
     "name": "stderr",
     "output_type": "stream",
     "text": [
      "Warping progress     |==================================================| 100.0% Complete  => 0:00:00\n"
     ]
    },
    {
     "name": "stdout",
     "output_type": "stream",
     "text": [
      "Writing GeoArray of size (295, 940, 6) to C:/Users/BSD/Desktop/arosics/gee-atmcorr-S2-master/images/2_arosics_GEOM/L1C_T20LPR_A012949_20190829T142756_BOA_GEOM.tif.\n",
      "Calculating actual data corner coordinates for reference image...\n",
      "Bounding box of calculated footprint for reference image:\n",
      "\t(647200.0, 9058820.0, 666000.0, 9064720.0)\n",
      "Calculating actual data corner coordinates for image to be shifted...\n",
      "Bounding box of calculated footprint for image to be shifted:\n",
      "\t(647200.0, 9058820.0, 666000.0, 9064720.0)\n",
      "Matching window position (X,Y): 656600.0/9061770.0\n",
      "Detected integer shifts (X/Y):                            0/0\n",
      "Detected subpixel shifts (X/Y):                           -0.0831223373292116/-0.13811462845562394\n",
      "Calculated total shifts in fft pixel units (X/Y):         -0.0831223373292116/-0.13811462845562394\n",
      "Calculated total shifts in reference pixel units (X/Y):   -0.0831223373292116/-0.13811462845562394\n",
      "Calculated total shifts in target pixel units (X/Y):      -0.0831223373292116/-0.13811462845562394\n",
      "Calculated map shifts (X,Y):\t\t\t\t  -1.6624467466026545/2.762292569503188\n",
      "Calculated absolute shift vector length in map units:     3.223971064513805\n",
      "Calculated angle of shift vector in degrees from North:   148.95896235787052\n",
      "Original map info: ['UTM', 1.0, 1.0, 647200.0, 9064720.0, 20.0, 20.0, -20, 'South', 'WGS-84']\n",
      "Updated map info:  ['UTM', 1.0, 1.0, '647198.3375532534', '9064722.76229257', 20.0, 20.0, -20, 'South', 'WGS-84']\n"
     ]
    },
    {
     "name": "stderr",
     "output_type": "stream",
     "text": [
      "C:\\Users\\BSD\\anaconda3\\envs\\arosics\\lib\\site-packages\\py_tools_ds\\similarity\\raster.py:44: UserWarning: DEPRECATED: skimage.measure.compare_ssim has been moved to skimage.metrics.structural_similarity. It will be removed from skimage.measure in version 0.18.\n",
      "  return ssim(image0, image1, data_range=dynamic_range, win_size=win_size, gaussian_weights=gaussian_weights)\n"
     ]
    },
    {
     "name": "stdout",
     "output_type": "stream",
     "text": [
      "Image similarity within the matching window (SSIM before/after correction): 0.8194 => 0.8235\n",
      "Estimated reliability of the calculated shifts:  95.7 %\n",
      "Correcting geometric shifts...\n"
     ]
    },
    {
     "name": "stderr",
     "output_type": "stream",
     "text": [
      "Warping progress     |==================================================| 100.0% Complete  => 0:00:00\n"
     ]
    },
    {
     "name": "stdout",
     "output_type": "stream",
     "text": [
      "Writing GeoArray of size (295, 940, 6) to C:/Users/BSD/Desktop/arosics/gee-atmcorr-S2-master/images/2_arosics_GEOM/L1C_T20LPR_A013092_20190908T142754_BOA_GEOM.tif.\n",
      "Calculating actual data corner coordinates for reference image...\n",
      "Bounding box of calculated footprint for reference image:\n",
      "\t(647200.0, 9058820.0, 666000.0, 9064720.0)\n",
      "Calculating actual data corner coordinates for image to be shifted...\n",
      "Bounding box of calculated footprint for image to be shifted:\n",
      "\t(647200.0, 9058820.0, 666000.0, 9064720.0)\n",
      "Matching window position (X,Y): 656600.0/9061770.0\n",
      "Detected integer shifts (X/Y):                            0/0\n",
      "Detected subpixel shifts (X/Y):                           0.16988882476195982/0.19916424846198497\n",
      "Calculated total shifts in fft pixel units (X/Y):         0.16988882476195982/0.19916424846198497\n",
      "Calculated total shifts in reference pixel units (X/Y):   0.16988882476195982/0.19916424846198497\n",
      "Calculated total shifts in target pixel units (X/Y):      0.16988882476195982/0.19916424846198497\n",
      "Calculated map shifts (X,Y):\t\t\t\t  3.3977764951996505/-3.983284968882799\n",
      "Calculated absolute shift vector length in map units:     5.235593973434042\n",
      "Calculated angle of shift vector in degrees from North:   319.5355350316223\n",
      "Original map info: ['UTM', 1.0, 1.0, 647200.0, 9064720.0, 20.0, 20.0, -20, 'South', 'WGS-84']\n",
      "Updated map info:  ['UTM', 1.0, 1.0, '647203.3977764952', '9064716.016715031', 20.0, 20.0, -20, 'South', 'WGS-84']\n"
     ]
    },
    {
     "name": "stderr",
     "output_type": "stream",
     "text": [
      "C:\\Users\\BSD\\anaconda3\\envs\\arosics\\lib\\site-packages\\py_tools_ds\\similarity\\raster.py:44: UserWarning: DEPRECATED: skimage.measure.compare_ssim has been moved to skimage.metrics.structural_similarity. It will be removed from skimage.measure in version 0.18.\n",
      "  return ssim(image0, image1, data_range=dynamic_range, win_size=win_size, gaussian_weights=gaussian_weights)\n"
     ]
    },
    {
     "name": "stdout",
     "output_type": "stream",
     "text": [
      "Image similarity within the matching window (SSIM before/after correction): 0.6520 => 0.6534\n",
      "Estimated reliability of the calculated shifts:  61.9 %\n",
      "Correcting geometric shifts...\n"
     ]
    },
    {
     "name": "stderr",
     "output_type": "stream",
     "text": [
      "Warping progress     |==================================================| 100.0% Complete  => 0:00:00\n"
     ]
    },
    {
     "name": "stdout",
     "output_type": "stream",
     "text": [
      "Writing GeoArray of size (295, 940, 6) to C:/Users/BSD/Desktop/arosics/gee-atmcorr-S2-master/images/2_arosics_GEOM/L1C_T20LPR_A013235_20190918T143240_BOA_GEOM.tif.\n",
      "Calculating actual data corner coordinates for reference image...\n",
      "Bounding box of calculated footprint for reference image:\n",
      "\t(647200.0, 9058820.0, 666000.0, 9064720.0)\n",
      "Calculating actual data corner coordinates for image to be shifted...\n",
      "Bounding box of calculated footprint for image to be shifted:\n",
      "\t(647200.0, 9058820.0, 666000.0, 9064720.0)\n",
      "Matching window position (X,Y): 656600.0/9061770.0\n",
      "Detected integer shifts (X/Y):                            0/0\n",
      "Detected subpixel shifts (X/Y):                           0.05833442594870771/0.10732893356802195\n",
      "Calculated total shifts in fft pixel units (X/Y):         0.05833442594870771/0.10732893356802195\n",
      "Calculated total shifts in reference pixel units (X/Y):   0.05833442594870771/0.10732893356802195\n",
      "Calculated total shifts in target pixel units (X/Y):      0.05833442594870771/0.10732893356802195\n",
      "Calculated map shifts (X,Y):\t\t\t\t  1.1666885189479217/-2.14657867141068\n",
      "Calculated absolute shift vector length in map units:     2.443145941772643\n",
      "Calculated angle of shift vector in degrees from North:   331.475445709984\n",
      "Original map info: ['UTM', 1.0, 1.0, 647200.0, 9064720.0, 20.0, 20.0, -20, 'South', 'WGS-84']\n",
      "Updated map info:  ['UTM', 1.0, 1.0, '647201.166688519', '9064717.853421329', 20.0, 20.0, -20, 'South', 'WGS-84']\n"
     ]
    },
    {
     "name": "stderr",
     "output_type": "stream",
     "text": [
      "C:\\Users\\BSD\\anaconda3\\envs\\arosics\\lib\\site-packages\\py_tools_ds\\similarity\\raster.py:44: UserWarning: DEPRECATED: skimage.measure.compare_ssim has been moved to skimage.metrics.structural_similarity. It will be removed from skimage.measure in version 0.18.\n",
      "  return ssim(image0, image1, data_range=dynamic_range, win_size=win_size, gaussian_weights=gaussian_weights)\n"
     ]
    },
    {
     "name": "stdout",
     "output_type": "stream",
     "text": [
      "Image similarity within the matching window (SSIM before/after correction): 0.8550 => 0.8576\n",
      "Estimated reliability of the calculated shifts:  95.6 %\n",
      "Correcting geometric shifts...\n"
     ]
    },
    {
     "name": "stderr",
     "output_type": "stream",
     "text": [
      "Warping progress     |==================================================| 100.0% Complete  => 0:00:00\n"
     ]
    },
    {
     "name": "stdout",
     "output_type": "stream",
     "text": [
      "Writing GeoArray of size (295, 940, 6) to C:/Users/BSD/Desktop/arosics/gee-atmcorr-S2-master/images/2_arosics_GEOM/L1C_T20LPR_A013378_20190928T142753_BOA_GEOM.tif.\n",
      "Calculating actual data corner coordinates for reference image...\n",
      "Bounding box of calculated footprint for reference image:\n",
      "\t(647200.0, 9058820.0, 666000.0, 9064720.0)\n",
      "Calculating actual data corner coordinates for image to be shifted...\n",
      "Bounding box of calculated footprint for image to be shifted:\n",
      "\t(647200.0, 9058820.0, 666000.0, 9064720.0)\n",
      "Matching window position (X,Y): 656600.0/9061770.0\n",
      "Detected integer shifts (X/Y):                            0/0\n",
      "Detected subpixel shifts (X/Y):                           0.07126722011362865/0.2358453212556177\n",
      "Calculated total shifts in fft pixel units (X/Y):         0.07126722011362865/0.2358453212556177\n",
      "Calculated total shifts in reference pixel units (X/Y):   0.07126722011362865/0.2358453212556177\n",
      "Calculated total shifts in target pixel units (X/Y):      0.07126722011362865/0.2358453212556177\n",
      "Calculated map shifts (X,Y):\t\t\t\t  1.4253444023197517/-4.716906424611807\n",
      "Calculated absolute shift vector length in map units:     4.927556482047505\n",
      "Calculated angle of shift vector in degrees from North:   343.1863486223641\n",
      "Original map info: ['UTM', 1.0, 1.0, 647200.0, 9064720.0, 20.0, 20.0, -20, 'South', 'WGS-84']\n",
      "Updated map info:  ['UTM', 1.0, 1.0, '647201.4253444023', '9064715.283093575', 20.0, 20.0, -20, 'South', 'WGS-84']\n"
     ]
    },
    {
     "name": "stderr",
     "output_type": "stream",
     "text": [
      "C:\\Users\\BSD\\anaconda3\\envs\\arosics\\lib\\site-packages\\py_tools_ds\\similarity\\raster.py:44: UserWarning: DEPRECATED: skimage.measure.compare_ssim has been moved to skimage.metrics.structural_similarity. It will be removed from skimage.measure in version 0.18.\n",
      "  return ssim(image0, image1, data_range=dynamic_range, win_size=win_size, gaussian_weights=gaussian_weights)\n"
     ]
    },
    {
     "name": "stdout",
     "output_type": "stream",
     "text": [
      "Image similarity within the matching window (SSIM before/after correction): 0.8581 => 0.8701\n",
      "Estimated reliability of the calculated shifts:  95.9 %\n",
      "Correcting geometric shifts...\n"
     ]
    },
    {
     "name": "stderr",
     "output_type": "stream",
     "text": [
      "Warping progress     |==================================================| 100.0% Complete  => 0:00:00\n"
     ]
    },
    {
     "name": "stdout",
     "output_type": "stream",
     "text": [
      "Writing GeoArray of size (295, 940, 6) to C:/Users/BSD/Desktop/arosics/gee-atmcorr-S2-master/images/2_arosics_GEOM/L1C_T20LPR_A021500_20190804T143101_BOA_GEOM.tif.\n",
      "Calculating actual data corner coordinates for reference image...\n",
      "Bounding box of calculated footprint for reference image:\n",
      "\t(647200.0, 9058820.0, 666000.0, 9064720.0)\n",
      "Calculating actual data corner coordinates for image to be shifted...\n",
      "Bounding box of calculated footprint for image to be shifted:\n",
      "\t(647200.0, 9058820.0, 666000.0, 9064720.0)\n",
      "Matching window position (X,Y): 656600.0/9061770.0\n",
      "Detected integer shifts (X/Y):                            0/0\n",
      "Detected subpixel shifts (X/Y):                           -0.07634690496885208/0.25359982151348864\n",
      "Calculated total shifts in fft pixel units (X/Y):         -0.07634690496885208/0.25359982151348864\n",
      "Calculated total shifts in reference pixel units (X/Y):   -0.07634690496885208/0.25359982151348864\n",
      "Calculated total shifts in target pixel units (X/Y):      -0.07634690496885208/0.25359982151348864\n",
      "Calculated map shifts (X,Y):\t\t\t\t  -1.5269380994141102/-5.071996429935098\n",
      "Calculated absolute shift vector length in map units:     5.296856402123504\n",
      "Calculated angle of shift vector in degrees from North:   16.754562049900905\n",
      "Original map info: ['UTM', 1.0, 1.0, 647200.0, 9064720.0, 20.0, 20.0, -20, 'South', 'WGS-84']\n",
      "Updated map info:  ['UTM', 1.0, 1.0, '647198.4730619006', '9064714.92800357', 20.0, 20.0, -20, 'South', 'WGS-84']\n"
     ]
    },
    {
     "name": "stderr",
     "output_type": "stream",
     "text": [
      "C:\\Users\\BSD\\anaconda3\\envs\\arosics\\lib\\site-packages\\py_tools_ds\\similarity\\raster.py:44: UserWarning: DEPRECATED: skimage.measure.compare_ssim has been moved to skimage.metrics.structural_similarity. It will be removed from skimage.measure in version 0.18.\n",
      "  return ssim(image0, image1, data_range=dynamic_range, win_size=win_size, gaussian_weights=gaussian_weights)\n"
     ]
    },
    {
     "name": "stdout",
     "output_type": "stream",
     "text": [
      "Image similarity within the matching window (SSIM before/after correction): 0.8944 => 0.9082\n",
      "Estimated reliability of the calculated shifts:  95.8 %\n",
      "Correcting geometric shifts...\n"
     ]
    },
    {
     "name": "stderr",
     "output_type": "stream",
     "text": [
      "Warping progress     |==================================================| 100.0% Complete  => 0:00:00\n"
     ]
    },
    {
     "name": "stdout",
     "output_type": "stream",
     "text": [
      "Writing GeoArray of size (295, 940, 6) to C:/Users/BSD/Desktop/arosics/gee-atmcorr-S2-master/images/2_arosics_GEOM/L1C_T20LPR_A021643_20190814T142756_BOA_GEOM.tif.\n",
      "Calculating actual data corner coordinates for reference image...\n",
      "Bounding box of calculated footprint for reference image:\n",
      "\t(647200.0, 9058820.0, 666000.0, 9064720.0)\n",
      "Calculating actual data corner coordinates for image to be shifted...\n",
      "Bounding box of calculated footprint for image to be shifted:\n",
      "\t(647200.0, 9058820.0, 666000.0, 9064720.0)\n",
      "Matching window position (X,Y): 656600.0/9061770.0\n",
      "Detected integer shifts (X/Y):                            0/0\n",
      "Detected subpixel shifts (X/Y):                           0.15526845202511866/0.37294660074659686\n",
      "Calculated total shifts in fft pixel units (X/Y):         0.15526845202511866/0.37294660074659686\n",
      "Calculated total shifts in reference pixel units (X/Y):   0.15526845202511866/0.37294660074659686\n",
      "Calculated total shifts in target pixel units (X/Y):      0.15526845202511866/0.37294660074659686\n",
      "Calculated map shifts (X,Y):\t\t\t\t  3.105369040509686/-7.45893201418221\n",
      "Calculated absolute shift vector length in map units:     8.079541055650893\n",
      "Calculated angle of shift vector in degrees from North:   337.39662630149945\n",
      "Original map info: ['UTM', 1.0, 1.0, 647200.0, 9064720.0, 20.0, 20.0, -20, 'South', 'WGS-84']\n",
      "Updated map info:  ['UTM', 1.0, 1.0, '647203.1053690405', '9064712.541067986', 20.0, 20.0, -20, 'South', 'WGS-84']\n"
     ]
    },
    {
     "name": "stderr",
     "output_type": "stream",
     "text": [
      "C:\\Users\\BSD\\anaconda3\\envs\\arosics\\lib\\site-packages\\py_tools_ds\\similarity\\raster.py:44: UserWarning: DEPRECATED: skimage.measure.compare_ssim has been moved to skimage.metrics.structural_similarity. It will be removed from skimage.measure in version 0.18.\n",
      "  return ssim(image0, image1, data_range=dynamic_range, win_size=win_size, gaussian_weights=gaussian_weights)\n"
     ]
    },
    {
     "name": "stdout",
     "output_type": "stream",
     "text": [
      "Image similarity within the matching window (SSIM before/after correction): 0.8314 => 0.8463\n",
      "Estimated reliability of the calculated shifts:  94.8 %\n",
      "Correcting geometric shifts...\n"
     ]
    },
    {
     "name": "stderr",
     "output_type": "stream",
     "text": [
      "Warping progress     |==================================================| 100.0% Complete  => 0:00:00\n"
     ]
    },
    {
     "name": "stdout",
     "output_type": "stream",
     "text": [
      "Writing GeoArray of size (295, 940, 6) to C:/Users/BSD/Desktop/arosics/gee-atmcorr-S2-master/images/2_arosics_GEOM/L1C_T20LPR_A021786_20190824T142754_BOA_GEOM.tif.\n",
      "Calculating actual data corner coordinates for reference image...\n",
      "Bounding box of calculated footprint for reference image:\n",
      "\t(647200.0, 9058820.0, 666000.0, 9064720.0)\n",
      "Calculating actual data corner coordinates for image to be shifted...\n",
      "Bounding box of calculated footprint for image to be shifted:\n",
      "\t(647200.0, 9058820.0, 666000.0, 9064720.0)\n",
      "Matching window position (X,Y): 656600.0/9061770.0\n",
      "Detected integer shifts (X/Y):                            0/0\n",
      "Detected subpixel shifts (X/Y):                           -0.07210864910481626/0.31785761797116324\n",
      "Calculated total shifts in fft pixel units (X/Y):         -0.07210864910481626/0.31785761797116324\n",
      "Calculated total shifts in reference pixel units (X/Y):   -0.07210864910481626/0.31785761797116324\n",
      "Calculated total shifts in target pixel units (X/Y):      -0.07210864910481626/0.31785761797116324\n",
      "Calculated map shifts (X,Y):\t\t\t\t  -1.4421729821478948/-6.357152359560132\n",
      "Calculated absolute shift vector length in map units:     6.5186846091138895\n",
      "Calculated angle of shift vector in degrees from North:   12.781687121713846\n",
      "Original map info: ['UTM', 1.0, 1.0, 647200.0, 9064720.0, 20.0, 20.0, -20, 'South', 'WGS-84']\n",
      "Updated map info:  ['UTM', 1.0, 1.0, '647198.5578270179', '9064713.64284764', 20.0, 20.0, -20, 'South', 'WGS-84']\n"
     ]
    },
    {
     "name": "stderr",
     "output_type": "stream",
     "text": [
      "C:\\Users\\BSD\\anaconda3\\envs\\arosics\\lib\\site-packages\\py_tools_ds\\similarity\\raster.py:44: UserWarning: DEPRECATED: skimage.measure.compare_ssim has been moved to skimage.metrics.structural_similarity. It will be removed from skimage.measure in version 0.18.\n",
      "  return ssim(image0, image1, data_range=dynamic_range, win_size=win_size, gaussian_weights=gaussian_weights)\n"
     ]
    },
    {
     "name": "stdout",
     "output_type": "stream",
     "text": [
      "Image similarity within the matching window (SSIM before/after correction): 0.6505 => 0.6630\n",
      "Estimated reliability of the calculated shifts:  88.8 %\n",
      "Correcting geometric shifts...\n"
     ]
    },
    {
     "name": "stderr",
     "output_type": "stream",
     "text": [
      "Warping progress     |==================================================| 100.0% Complete  => 0:00:00\n"
     ]
    },
    {
     "name": "stdout",
     "output_type": "stream",
     "text": [
      "Writing GeoArray of size (295, 940, 6) to C:/Users/BSD/Desktop/arosics/gee-atmcorr-S2-master/images/2_arosics_GEOM/L1C_T20LPR_A021929_20190903T142959_BOA_GEOM.tif.\n",
      "Calculating actual data corner coordinates for reference image...\n",
      "Bounding box of calculated footprint for reference image:\n",
      "\t(647200.0, 9058820.0, 666000.0, 9064720.0)\n",
      "Calculating actual data corner coordinates for image to be shifted...\n",
      "Bounding box of calculated footprint for image to be shifted:\n",
      "\t(647200.0, 9058820.0, 666000.0, 9064720.0)\n",
      "Matching window position (X,Y): 656600.0/9061770.0\n",
      "Detected integer shifts (X/Y):                            0/0\n",
      "Detected subpixel shifts (X/Y):                           -0.09712000029054094/0.43407912667203996\n",
      "Calculated total shifts in fft pixel units (X/Y):         -0.09712000029054094/0.43407912667203996\n",
      "Calculated total shifts in reference pixel units (X/Y):   -0.09712000029054094/0.43407912667203996\n",
      "Calculated total shifts in target pixel units (X/Y):      -0.09712000029054094/0.43407912667203996\n",
      "Calculated map shifts (X,Y):\t\t\t\t  -1.9424000057624653/-8.681582532823086\n",
      "Calculated absolute shift vector length in map units:     8.896223527801274\n",
      "Calculated angle of shift vector in degrees from North:   12.611542399315034\n",
      "Original map info: ['UTM', 1.0, 1.0, 647200.0, 9064720.0, 20.0, 20.0, -20, 'South', 'WGS-84']\n",
      "Updated map info:  ['UTM', 1.0, 1.0, '647198.0575999942', '9064711.318417467', 20.0, 20.0, -20, 'South', 'WGS-84']\n"
     ]
    },
    {
     "name": "stderr",
     "output_type": "stream",
     "text": [
      "C:\\Users\\BSD\\anaconda3\\envs\\arosics\\lib\\site-packages\\py_tools_ds\\similarity\\raster.py:44: UserWarning: DEPRECATED: skimage.measure.compare_ssim has been moved to skimage.metrics.structural_similarity. It will be removed from skimage.measure in version 0.18.\n",
      "  return ssim(image0, image1, data_range=dynamic_range, win_size=win_size, gaussian_weights=gaussian_weights)\n"
     ]
    },
    {
     "name": "stdout",
     "output_type": "stream",
     "text": [
      "Image similarity within the matching window (SSIM before/after correction): 0.8862 => 0.9290\n",
      "Estimated reliability of the calculated shifts:  95.8 %\n"
     ]
    },
    {
     "name": "stderr",
     "output_type": "stream",
     "text": [
      "\r",
      "Warping progress     |--------------------------------------------------| 0.0% Complete  => 0:00:00"
     ]
    },
    {
     "name": "stdout",
     "output_type": "stream",
     "text": [
      "Correcting geometric shifts...\n"
     ]
    },
    {
     "name": "stderr",
     "output_type": "stream",
     "text": [
      "Warping progress     |==================================================| 100.0% Complete  => 0:00:00\n"
     ]
    },
    {
     "name": "stdout",
     "output_type": "stream",
     "text": [
      "Writing GeoArray of size (295, 940, 6) to C:/Users/BSD/Desktop/arosics/gee-atmcorr-S2-master/images/2_arosics_GEOM/L1C_T20LPR_A022072_20190913T142751_BOA_GEOM.tif.\n"
     ]
    }
   ],
   "source": [
    "sentinel_list = glob.glob(\"C:/Users/BSD/Desktop/arosics/gee-atmcorr-S2-master/images/1_6s_BOA/L1C_*.tif\")\n",
    "\n",
    "for i in range(len(sentinel_list)):\n",
    "    im_reference = glob.glob(\"C:/Users/BSD/Desktop/arosics/gee-atmcorr-S2-master/images/1_6s_BOA/L1C_*.tif\")[1] ## Insert filename into * to specify a scene, for default first scene were used\n",
    "    im_target    = sentinel_list[i]\n",
    "    CR = COREG(im_reference, im_target, out_crea_options=[\"WRITE_METADATA=YES\"], path_out= 'C:/Users/BSD/Desktop/arosics/gee-atmcorr-S2-master/images/2_arosics_GEOM/'+ Path(sentinel_list[i]).stem + '_GEOM.tif' , fmt_out='GTIFF')\n",
    "    CR.calculate_spatial_shifts()\n",
    "    geoRef = CR.correct_shifts()"
   ]
  },
  {
   "cell_type": "code",
   "execution_count": 34,
   "metadata": {
    "collapsed": false,
    "deletable": true,
    "editable": true
   },
   "outputs": [
    {
     "name": "stdout",
     "output_type": "stream",
     "text": [
      "Calculating actual data corner coordinates for reference image...\n",
      "Bounding box of calculated footprint for reference image:\n",
      "\t(647175.0, -941175.0, 665985.0, -935265.0)\n",
      "Calculating actual data corner coordinates for image to be shifted...\n",
      "Bounding box of calculated footprint for image to be shifted:\n",
      "\t(647175.0, -941175.0, 665985.0, -935265.0)\n",
      "Matching window position (X,Y): 656580.0/-938220.0\n",
      "Target window size (256, 256) not possible due to too small overlap area or window position too close to an image edge. New matching window size: (256, 197).\n",
      "Detected integer shifts (X/Y):                            0/0\n",
      "Detected subpixel shifts (X/Y):                           -0.20192907191279344/-0.1893300502642055\n",
      "Calculated total shifts in fft pixel units (X/Y):         -0.20192907191279344/-0.1893300502642055\n",
      "Calculated total shifts in reference pixel units (X/Y):   -0.20192907191279344/-0.1893300502642055\n",
      "Calculated total shifts in target pixel units (X/Y):      -0.20192907191279344/-0.1893300502642055\n",
      "Calculated map shifts (X,Y):\t\t\t\t  -6.057872157427482/5.679901507915929\n",
      "Calculated absolute shift vector length in map units:     8.304161379414586\n",
      "Calculated angle of shift vector in degrees from North:   133.15564322061365\n",
      "Original map info: ['UTM', 1.0, 1.0, 647175.0, -935265.0, 30.0, 30.0, 20, 'South', 'WGS-84']\n",
      "Updated map info:  ['UTM', 1.0, 1.0, '647168.9421278426', '-935259.3200984921', 30.0, 30.0, 20, 'South', 'WGS-84']\n"
     ]
    },
    {
     "name": "stderr",
     "output_type": "stream",
     "text": [
      "C:\\Users\\BSD\\anaconda3\\envs\\arosics\\lib\\site-packages\\py_tools_ds\\similarity\\raster.py:44: UserWarning: DEPRECATED: skimage.measure.compare_ssim has been moved to skimage.metrics.structural_similarity. It will be removed from skimage.measure in version 0.18.\n",
      "  return ssim(image0, image1, data_range=dynamic_range, win_size=win_size, gaussian_weights=gaussian_weights)\n"
     ]
    },
    {
     "name": "stdout",
     "output_type": "stream",
     "text": [
      "Image similarity within the matching window (SSIM before/after correction): 0.1435 => 0.1446\n",
      "Estimated reliability of the calculated shifts:  85.8 %\n"
     ]
    },
    {
     "name": "stderr",
     "output_type": "stream",
     "text": [
      "Warping progress     |====----------------------------------------------| 8.1% Complete  => 0:00:00"
     ]
    },
    {
     "name": "stdout",
     "output_type": "stream",
     "text": [
      "Correcting geometric shifts...\n"
     ]
    },
    {
     "name": "stderr",
     "output_type": "stream",
     "text": [
      "Warping progress     |==================================================| 100.0% Complete  => 0:00:01\n"
     ]
    },
    {
     "name": "stdout",
     "output_type": "stream",
     "text": [
      "Writing GeoArray of size (197, 627, 6) to C:/Users/BSD/Desktop/arosics/gee-atmcorr-S2-master/images/2_arosics_GEOM/LC08_L1TP_231066_20190805_20190820_01_T1_BOA_GEOM.tif.\n",
      "Calculating actual data corner coordinates for reference image...\n",
      "Bounding box of calculated footprint for reference image:\n",
      "\t(647175.0, -941175.0, 665985.0, -935265.0)\n",
      "Calculating actual data corner coordinates for image to be shifted...\n",
      "Bounding box of calculated footprint for image to be shifted:\n",
      "\t(647175.0, -941175.0, 665985.0, -935265.0)\n",
      "Matching window position (X,Y): 656580.0/-938220.0\n",
      "Target window size (256, 256) not possible due to too small overlap area or window position too close to an image edge. New matching window size: (256, 197).\n",
      "Detected integer shifts (X/Y):                            0/0\n",
      "Detected subpixel shifts (X/Y):                           8.023012708490728e-10/6.394111696365725e-10\n",
      "Calculated total shifts in fft pixel units (X/Y):         8.023012708490728e-10/6.394111696365725e-10\n",
      "Calculated total shifts in reference pixel units (X/Y):   8.023012708490728e-10/6.394111696365725e-10\n",
      "Calculated total shifts in target pixel units (X/Y):      8.023012708490728e-10/6.394111696365725e-10\n",
      "Calculated map shifts (X,Y):\t\t\t\t  2.4097971618175507e-08/-1.9208528101444244e-08\n",
      "Calculated absolute shift vector length in map units:     3.0816875051412425e-08\n",
      "Calculated angle of shift vector in degrees from North:   308.5538434033937\n",
      "Original map info: ['UTM', 1.0, 1.0, 647175.0, -935265.0, 30.0, 30.0, 20, 'South', 'WGS-84']\n",
      "Updated map info:  ['UTM', 1.0, 1.0, '647175.0000000241', '-935265.0000000192', 30.0, 30.0, 20, 'South', 'WGS-84']\n"
     ]
    },
    {
     "name": "stderr",
     "output_type": "stream",
     "text": [
      "C:\\Users\\BSD\\anaconda3\\envs\\arosics\\lib\\site-packages\\py_tools_ds\\similarity\\raster.py:44: UserWarning: DEPRECATED: skimage.measure.compare_ssim has been moved to skimage.metrics.structural_similarity. It will be removed from skimage.measure in version 0.18.\n",
      "  return ssim(image0, image1, data_range=dynamic_range, win_size=win_size, gaussian_weights=gaussian_weights)\n"
     ]
    },
    {
     "name": "stdout",
     "output_type": "stream",
     "text": [
      "Image similarity within the matching window (SSIM before/after correction): 1.0000 => 1.0000\n",
      "Estimated reliability of the calculated shifts:  100.0 %\n"
     ]
    },
    {
     "name": "stderr",
     "output_type": "stream",
     "text": [
      "\r",
      "Warping progress     |--------------------------------------------------| 0.0% Complete  => 0:00:00"
     ]
    },
    {
     "name": "stdout",
     "output_type": "stream",
     "text": [
      "Correcting geometric shifts...\n"
     ]
    },
    {
     "name": "stderr",
     "output_type": "stream",
     "text": [
      "Warping progress     |==================================================| 100.0% Complete  => 0:00:01\n"
     ]
    },
    {
     "name": "stdout",
     "output_type": "stream",
     "text": [
      "Writing GeoArray of size (197, 627, 6) to C:/Users/BSD/Desktop/arosics/gee-atmcorr-S2-master/images/2_arosics_GEOM/LC08_L1TP_231066_20190821_20190903_01_T1_BOA_GEOM.tif.\n",
      "Calculating actual data corner coordinates for reference image...\n",
      "Bounding box of calculated footprint for reference image:\n",
      "\t(647175.0, -941175.0, 665985.0, -935265.0)\n",
      "Calculating actual data corner coordinates for image to be shifted...\n",
      "Bounding box of calculated footprint for image to be shifted:\n",
      "\t(647175.0, -941175.0, 665985.0, -935265.0)\n",
      "Matching window position (X,Y): 656580.0/-938220.0\n",
      "Target window size (256, 256) not possible due to too small overlap area or window position too close to an image edge. New matching window size: (256, 197).\n",
      "Detected integer shifts (X/Y):                            0/0\n",
      "Detected subpixel shifts (X/Y):                           -0.14400808260110012/-0.30888841294562214\n",
      "Calculated total shifts in fft pixel units (X/Y):         -0.14400808260110012/-0.30888841294562214\n",
      "Calculated total shifts in reference pixel units (X/Y):   -0.14400808260110012/-0.30888841294562214\n",
      "Calculated total shifts in target pixel units (X/Y):      -0.14400808260110012/-0.30888841294562214\n",
      "Calculated map shifts (X,Y):\t\t\t\t  -4.320242478046566/9.266652388381772\n",
      "Calculated absolute shift vector length in map units:     10.224252616021355\n",
      "Calculated angle of shift vector in degrees from North:   155.00441097562035\n",
      "Original map info: ['UTM', 1.0, 1.0, 647175.0, -935265.0, 30.0, 30.0, 20, 'South', 'WGS-84']\n",
      "Updated map info:  ['UTM', 1.0, 1.0, '647170.679757522', '-935255.7333476116', 30.0, 30.0, 20, 'South', 'WGS-84']\n"
     ]
    },
    {
     "name": "stderr",
     "output_type": "stream",
     "text": [
      "C:\\Users\\BSD\\anaconda3\\envs\\arosics\\lib\\site-packages\\py_tools_ds\\similarity\\raster.py:44: UserWarning: DEPRECATED: skimage.measure.compare_ssim has been moved to skimage.metrics.structural_similarity. It will be removed from skimage.measure in version 0.18.\n",
      "  return ssim(image0, image1, data_range=dynamic_range, win_size=win_size, gaussian_weights=gaussian_weights)\n"
     ]
    },
    {
     "name": "stdout",
     "output_type": "stream",
     "text": [
      "Image similarity within the matching window (SSIM before/after correction): 0.5704 => 0.5715\n",
      "Estimated reliability of the calculated shifts:  34.3 %\n"
     ]
    },
    {
     "name": "stderr",
     "output_type": "stream",
     "text": [
      "Warping progress     |==------------------------------------------------| 4.1% Complete  => 0:00:00"
     ]
    },
    {
     "name": "stdout",
     "output_type": "stream",
     "text": [
      "Correcting geometric shifts...\n"
     ]
    },
    {
     "name": "stderr",
     "output_type": "stream",
     "text": [
      "Warping progress     |==================================================| 100.0% Complete  => 0:00:01\n"
     ]
    },
    {
     "name": "stdout",
     "output_type": "stream",
     "text": [
      "Writing GeoArray of size (197, 627, 6) to C:/Users/BSD/Desktop/arosics/gee-atmcorr-S2-master/images/2_arosics_GEOM/LC08_L1TP_231066_20190906_20190917_01_T1_BOA_GEOM.tif.\n",
      "Calculating actual data corner coordinates for reference image...\n",
      "Bounding box of calculated footprint for reference image:\n",
      "\t(647175.0, -941175.0, 665985.0, -935265.0)\n",
      "Calculating actual data corner coordinates for image to be shifted...\n",
      "Bounding box of calculated footprint for image to be shifted:\n",
      "\t(647175.0, -941175.0, 665985.0, -935265.0)\n",
      "Matching window position (X,Y): 656580.0/-938220.0\n",
      "Target window size (256, 256) not possible due to too small overlap area or window position too close to an image edge. New matching window size: (256, 197).\n",
      "No clear match found yet. Jumping to iteration 2...\n",
      "input shifts:  -33 1\n",
      "No clear match found yet. Jumping to iteration 3...\n",
      "input shifts:  -28 0\n",
      "No clear match found yet. Jumping to iteration 4...\n",
      "input shifts:  42 -30\n",
      "No clear match found yet. Jumping to iteration 5...\n",
      "input shifts:  16 18\n",
      "Correcting geometric shifts...\n",
      "Writing GeoArray of size (197, 627, 6) to C:/Users/BSD/Desktop/arosics/gee-atmcorr-S2-master/images/2_arosics_GEOM/LE07_L1TP_231066_20190813_20190908_01_T1_BOA_GEOM.tif.\n",
      "Calculating actual data corner coordinates for reference image...\n",
      "Bounding box of calculated footprint for reference image:\n",
      "\t(647175.0, -941175.0, 665985.0, -935265.0)\n",
      "Calculating actual data corner coordinates for image to be shifted...\n",
      "Bounding box of calculated footprint for image to be shifted:\n",
      "\t(647175.0, -941175.0, 665985.0, -935265.0)\n",
      "Matching window position (X,Y): 656580.0/-938220.0\n",
      "Target window size (256, 256) not possible due to too small overlap area or window position too close to an image edge. New matching window size: (256, 197).\n",
      "No clear match found yet. Jumping to iteration 2...\n",
      "input shifts:  16 0\n",
      "No clear match found yet. Jumping to iteration 3...\n",
      "input shifts:  0 -8\n",
      "No clear match found yet. Jumping to iteration 4...\n",
      "input shifts:  0 10\n",
      "No clear match found yet. Jumping to iteration 5...\n",
      "input shifts:  0 -14\n",
      "Correcting geometric shifts...\n",
      "Writing GeoArray of size (197, 627, 6) to C:/Users/BSD/Desktop/arosics/gee-atmcorr-S2-master/images/2_arosics_GEOM/LE07_L1TP_231066_20190829_20190924_01_T1_BOA_GEOM.tif.\n",
      "Calculating actual data corner coordinates for reference image...\n",
      "Bounding box of calculated footprint for reference image:\n",
      "\t(647175.0, -941175.0, 665985.0, -935265.0)\n",
      "Calculating actual data corner coordinates for image to be shifted...\n",
      "Bounding box of calculated footprint for image to be shifted:\n",
      "\t(647175.0, -941175.0, 665985.0, -935265.0)\n",
      "Matching window position (X,Y): 656580.0/-938220.0\n",
      "Target window size (256, 256) not possible due to too small overlap area or window position too close to an image edge. New matching window size: (256, 197).\n",
      "No clear match found yet. Jumping to iteration 2...\n",
      "input shifts:  1 0\n",
      "No clear match found yet. Jumping to iteration 3...\n",
      "input shifts:  -4 -3\n",
      "No clear match found yet. Jumping to iteration 4...\n",
      "input shifts:  -42 38\n",
      "No clear match found yet. Jumping to iteration 5...\n",
      "input shifts:  -10 30\n",
      "Correcting geometric shifts...\n",
      "Writing GeoArray of size (197, 627, 6) to C:/Users/BSD/Desktop/arosics/gee-atmcorr-S2-master/images/2_arosics_GEOM/LE07_L1TP_231066_20190914_20191028_01_T1_BOA_GEOM.tif.\n",
      "Calculating actual data corner coordinates for reference image...\n",
      "Bounding box of calculated footprint for reference image:\n",
      "\t(647175.0, -941175.0, 665985.0, -935265.0)\n",
      "Calculating actual data corner coordinates for image to be shifted...\n",
      "Bounding box of calculated footprint for image to be shifted:\n",
      "\t(647175.0, -941175.0, 665985.0, -935265.0)\n",
      "Matching window position (X,Y): 656580.0/-938220.0\n",
      "Target window size (256, 256) not possible due to too small overlap area or window position too close to an image edge. New matching window size: (256, 197).\n",
      "No clear match found yet. Jumping to iteration 2...\n",
      "input shifts:  17 0\n",
      "No clear match found yet. Jumping to iteration 3...\n",
      "input shifts:  46 0\n",
      "No clear match found yet. Jumping to iteration 4...\n",
      "input shifts:  28 0\n",
      "No clear match found yet. Jumping to iteration 5...\n",
      "input shifts:  5 -49\n",
      "Correcting geometric shifts...\n",
      "Writing GeoArray of size (197, 627, 6) to C:/Users/BSD/Desktop/arosics/gee-atmcorr-S2-master/images/2_arosics_GEOM/LE07_L1TP_231066_20190930_20191026_01_T1_BOA_GEOM.tif.\n"
     ]
    }
   ],
   "source": [
    "landsat_list  = glob.glob(\"C:/Users/BSD/Desktop/arosics/gee-atmcorr-S2-master/images/1_6s_BOA/LC08_*.tif\")  + glob.glob(\"C:/Users/BSD/Desktop/arosics/gee-atmcorr-S2-master/images/1_6s_BOA/LE07_*.tif\")\n",
    "\n",
    "for i in range(len(landsat_list)):\n",
    "    im_reference = glob.glob(\"C:/Users/BSD/Desktop/arosics/gee-atmcorr-S2-master/images/1_6s_BOA/LC08_*.tif\")[1] ## Insert filename into * to specify a scene, for default first scene were used\n",
    "    im_target    = landsat_list[i]\n",
    "    CR = COREG(im_reference, im_target, out_crea_options=[\"WRITE_METADATA=YES\"], path_out= 'C:/Users/BSD/Desktop/arosics/gee-atmcorr-S2-master/images/2_arosics_GEOM/'+ Path(landsat_list[i]).stem + '_GEOM.tif' , fmt_out='GTIFF', ignore_errors=True)\n",
    "    CR.calculate_spatial_shifts()\n",
    "    geoRef = CR.correct_shifts()"
   ]
  },
  {
   "cell_type": "code",
   "execution_count": null,
   "metadata": {
    "collapsed": true,
    "deletable": true,
    "editable": true
   },
   "outputs": [],
   "source": []
  }
 ],
 "metadata": {
  "kernelspec": {
   "display_name": "Python 3",
   "language": "python",
   "name": "python3"
  },
  "language_info": {
   "codemirror_mode": {
    "name": "ipython",
    "version": 3
   },
   "file_extension": ".py",
   "mimetype": "text/x-python",
   "name": "python",
   "nbconvert_exporter": "python",
   "pygments_lexer": "ipython3",
   "version": "3.6.10"
  }
 },
 "nbformat": 4,
 "nbformat_minor": 4
}
