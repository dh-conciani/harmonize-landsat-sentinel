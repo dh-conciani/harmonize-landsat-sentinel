{
 "cells": [
  {
   "cell_type": "markdown",
   "metadata": {},
   "source": [
    "# Sentinel 2 Atmospheric Correction in Google Earth Engine"
   ]
  },
  {
   "cell_type": "markdown",
   "metadata": {},
   "source": [
    "### Import modules \n",
    "and initialize Earth Engine"
   ]
  },
  {
   "cell_type": "code",
   "execution_count": null,
   "metadata": {},
   "outputs": [],
   "source": [
    "import ee\n",
    "from Py6S import *\n",
    "import datetime\n",
    "import math\n",
    "import os\n",
    "import sys\n",
    "sys.path.append(os.path.join(os.path.dirname(os.getcwd()),'bin'))\n",
    "from atmospheric import Atmospheric\n",
    "\n",
    "ee.Initialize()"
   ]
  },
  {
   "cell_type": "markdown",
   "metadata": {},
   "source": [
    "### time and place\n",
    "Define the time and place that you are looking for."
   ]
  },
  {
   "cell_type": "code",
   "execution_count": null,
   "metadata": {},
   "outputs": [],
   "source": [
    "date = ee.Date('2017-01-01')\n",
    "geom = ee.Geometry.Point(-157.816222, 21.297481)\n",
    "geom = ee.Geometry.Point(12.670733, 41.826685)# ESRIN (ESA Earth Observation Centre)"
   ]
  },
  {
   "cell_type": "markdown",
   "metadata": {},
   "source": [
    "### an image\n",
    "The following code will grab the first scene that occurs on or after date."
   ]
  },
  {
   "cell_type": "code",
   "execution_count": null,
   "metadata": {},
   "outputs": [],
   "source": [
    "# The first Sentinel 2 image\n",
    "S2 = ee.Image(\n",
    "  ee.ImageCollection('COPERNICUS/S2')\n",
    "    .filterBounds(geom)\n",
    "    .filterDate(date,date.advance(3,'month'))\n",
    "    .sort('system:time_start')\n",
    "    .first()\n",
    "  )\n",
    "\n",
    "# top of atmosphere reflectance\n",
    "toa = S2.divide(10000)"
   ]
  },
  {
   "cell_type": "markdown",
   "metadata": {},
   "source": [
    "### metadata"
   ]
  },
  {
   "cell_type": "code",
   "execution_count": null,
   "metadata": {},
   "outputs": [],
   "source": [
    "info = S2.getInfo()['properties']\n",
    "scene_date = datetime.datetime.utcfromtimestamp(info['system:time_start']/1000)# i.e. Python uses seconds, EE uses milliseconds\n",
    "solar_z = info['MEAN_SOLAR_ZENITH_ANGLE']"
   ]
  },
  {
   "cell_type": "markdown",
   "metadata": {},
   "source": [
    "### atmospheric constituents"
   ]
  },
  {
   "cell_type": "code",
   "execution_count": null,
   "metadata": {},
   "outputs": [],
   "source": [
    "h2o = Atmospheric.water(geom,date).getInfo()\n",
    "o3 = Atmospheric.ozone(geom,date).getInfo()\n",
    "aot = Atmospheric.aerosol(geom,date).getInfo()"
   ]
  },
  {
   "cell_type": "markdown",
   "metadata": {},
   "source": [
    "### target altitude (km)"
   ]
  },
  {
   "cell_type": "code",
   "execution_count": null,
   "metadata": {
    "collapsed": true
   },
   "outputs": [],
   "source": [
    "SRTM = ee.Image('CGIAR/SRTM90_V4')# Shuttle Radar Topography mission covers *most* of the Earth\n",
    "alt = SRTM.reduceRegion(reducer = ee.Reducer.mean(),geometry = geom.centroid()).get('elevation').getInfo()\n",
    "km = alt/1000 # i.e. Py6S uses units of kilometers"
   ]
  },
  {
   "cell_type": "markdown",
   "metadata": {},
   "source": [
    "### 6S object\n",
    "\n",
    "The backbone of Py6S is the 6S (i.e. SixS) class. It allows you to define the various input parameters, to run the radiative transfer code and to access the outputs which are required to convert radiance to surface reflectance."
   ]
  },
  {
   "cell_type": "code",
   "execution_count": null,
   "metadata": {},
   "outputs": [],
   "source": [
    "# Instantiate\n",
    "s = SixS()\n",
    "\n",
    "# Atmospheric constituents\n",
    "s.atmos_profile = AtmosProfile.UserWaterAndOzone(h2o,o3)\n",
    "s.aero_profile = AeroProfile.Continental\n",
    "s.aot550 = aot\n",
    "\n",
    "# Earth-Sun-satellite geometry\n",
    "s.geometry = Geometry.User()\n",
    "s.geometry.view_z = 0               # always NADIR (I think..)\n",
    "s.geometry.solar_z = solar_z        # solar zenith angle\n",
    "s.geometry.month = scene_date.month # month and day used for Earth-Sun distance\n",
    "s.geometry.day = scene_date.day     # month and day used for Earth-Sun distance\n",
    "s.altitudes.set_sensor_satellite_level()\n",
    "s.altitudes.set_target_custom_altitude(km)"
   ]
  },
  {
   "cell_type": "markdown",
   "metadata": {},
   "source": [
    "### Spectral Response functions"
   ]
  },
  {
   "cell_type": "markdown",
   "metadata": {},
   "source": [
    "Py6S uses the Wavelength class to handle the wavelength(s) associated with a given channel (a.k.a. waveband). This might be a single scalar value (e.g. a central wavelength) or, if known, possibly the spectral response function of the waveband. The Sentinel 2 spectral response functions are provided with Py6S (as well as those of a number of missions). For more details please see the [docs](http://py6s.readthedocs.io/en/latest/params.html#wavelengths) or the (comment-rich) [source code](https://github.com/robintw/Py6S/blob/master/Py6S/Params/wavelength.py)"
   ]
  },
  {
   "cell_type": "code",
   "execution_count": null,
   "metadata": {
    "collapsed": true
   },
   "outputs": [],
   "source": [
    "def spectralResponseFunction(bandname):\n",
    "    \"\"\"\n",
    "    Extract spectral response function for given band name\n",
    "    \"\"\"\n",
    "\n",
    "    bandSelect = {\n",
    "        'B1':PredefinedWavelengths.S2A_MSI_01,\n",
    "        'B2':PredefinedWavelengths.S2A_MSI_02,\n",
    "        'B3':PredefinedWavelengths.S2A_MSI_03,\n",
    "        'B4':PredefinedWavelengths.S2A_MSI_04,\n",
    "        'B5':PredefinedWavelengths.S2A_MSI_05,\n",
    "        'B6':PredefinedWavelengths.S2A_MSI_06,\n",
    "        'B7':PredefinedWavelengths.S2A_MSI_07,\n",
    "        'B8':PredefinedWavelengths.S2A_MSI_08,\n",
    "        'B8A':PredefinedWavelengths.S2A_MSI_09,\n",
    "        'B9':PredefinedWavelengths.S2A_MSI_10,\n",
    "        'B10':PredefinedWavelengths.S2A_MSI_11,\n",
    "        'B11':PredefinedWavelengths.S2A_MSI_12,\n",
    "        'B12':PredefinedWavelengths.S2A_MSI_13,\n",
    "        }\n",
    "    \n",
    "    return Wavelength(bandSelect[bandname])"
   ]
  },
  {
   "cell_type": "markdown",
   "metadata": {},
   "source": [
    "### TOA Reflectance to Radiance\n",
    "\n",
    "Sentinel 2 data is provided as top-of-atmosphere reflectance. Lets convert this to at-sensor radiance for the atmospheric correction.*\n",
    "\n",
    "\\*<sub>You *can* atmospherically corrected directly from TOA reflectance. However, I suggest radiance for a couple of reasons.\n",
    "  Firstly, it is more intuitive. Instead of *spherical albedo* (which I suspect is more of a mathematical convenience than a physical property) you can use solar irradiance, transmissivity, path radiance, etc. Secondly, Py6S seems to be more geared towards converting from radiance to SR</sup>\n",
    "\n",
    "\n",
    "\n"
   ]
  },
  {
   "cell_type": "code",
   "execution_count": null,
   "metadata": {},
   "outputs": [],
   "source": [
    "def toa_to_rad(bandname):\n",
    "    \"\"\"\n",
    "    Converts top of atmosphere reflectance to at-sensor radiance\n",
    "    \"\"\"\n",
    "    \n",
    "    # solar exoatmospheric spectral irradiance\n",
    "    ESUN = info['SOLAR_IRRADIANCE_'+bandname]\n",
    "    solar_angle_correction = math.cos(math.radians(solar_z))\n",
    "    \n",
    "    # Earth-Sun distance (from day of year)\n",
    "    doy = scene_date.timetuple().tm_yday\n",
    "    d = 1 - 0.01672 * math.cos(0.9856 * (doy-4))# http://physics.stackexchange.com/questions/177949/earth-sun-distance-on-a-given-day-of-the-year\n",
    "   \n",
    "    # conversion factor\n",
    "    multiplier = ESUN*solar_angle_correction/(math.pi*d**2)\n",
    "\n",
    "    # at-sensor radiance\n",
    "    rad = toa.select(bandname).multiply(multiplier)\n",
    "    \n",
    "    return rad"
   ]
  },
  {
   "cell_type": "markdown",
   "metadata": {},
   "source": [
    "### Radiance to Surface Reflectance\n",
    "\n",
    "Reflected sunlight can be described as follows (wavelength dependence is implied):\n",
    "\n",
    "$ L = \\tau\\rho(E_{dir} + E_{dif})/\\pi + L_p$\n",
    "\n",
    "where L is at-sensor radiance, $\\tau$ is transmissivity, $\\rho$ is surface reflectance, $E_{dir}$ is direct solar irradiance, $E_{dif}$ is diffuse solar irradiance and $L_p$ is path radiance. There are five unknowns in this equation, 4 atmospheric terms ($\\tau$, $E_{dir}$, $E_{dif}$ and $L_p$) and surface reflectance. The 6S radiative transfer code is used to solve for the atmospheric terms, allowing us to solve for surface reflectance.\n",
    "\n",
    "$ \\rho = \\pi(L - L_p) / \\tau(E_{dir} + E_{dif}) $"
   ]
  },
  {
   "cell_type": "code",
   "execution_count": null,
   "metadata": {},
   "outputs": [],
   "source": [
    "def surface_reflectance(bandname):\n",
    "    \"\"\"\n",
    "    Calculate surface reflectance from at-sensor radiance given waveband name\n",
    "    \"\"\"\n",
    "    \n",
    "    # run 6S for this waveband\n",
    "    s.wavelength = spectralResponseFunction(bandname)\n",
    "    s.run()\n",
    "    \n",
    "    # extract 6S outputs\n",
    "    Edir = s.outputs.direct_solar_irradiance             #direct solar irradiance\n",
    "    Edif = s.outputs.diffuse_solar_irradiance            #diffuse solar irradiance\n",
    "    Lp   = s.outputs.atmospheric_intrinsic_radiance      #path radiance\n",
    "    absorb  = s.outputs.trans['global_gas'].upward       #absorption transmissivity\n",
    "    scatter = s.outputs.trans['total_scattering'].upward #scattering transmissivity\n",
    "    tau2 = absorb*scatter                                #total transmissivity\n",
    "    \n",
    "    # radiance to surface reflectance\n",
    "    rad = toa_to_rad(bandname)\n",
    "    ref = rad.subtract(Lp).multiply(math.pi).divide(tau2*(Edir+Edif))\n",
    "    \n",
    "    return ref"
   ]
  },
  {
   "cell_type": "markdown",
   "metadata": {},
   "source": [
    "### Atmospheric Correction"
   ]
  },
  {
   "cell_type": "code",
   "execution_count": null,
   "metadata": {},
   "outputs": [],
   "source": [
    "# surface reflectance rgb\n",
    "b = surface_reflectance('B2')\n",
    "g = surface_reflectance('B3')\n",
    "r = surface_reflectance('B4')\n",
    "ref = r.addBands(g).addBands(b)\n",
    "\n",
    "# # all wavebands\n",
    "# output = S2.select('QA60')\n",
    "# for band in ['B1','B2','B3','B4','B5','B6','B7','B8','B8A','B9','B10','B11','B12']:\n",
    "#     print(band)\n",
    "#     output = output.addBands(surface_reflectance(band))"
   ]
  },
  {
   "cell_type": "markdown",
   "metadata": {},
   "source": [
    "### Display results"
   ]
  },
  {
   "cell_type": "code",
   "execution_count": null,
   "metadata": {},
   "outputs": [],
   "source": [
    "from IPython.display import display, Image\n",
    "\n",
    "region = geom.buffer(5000).bounds().getInfo()['coordinates']\n",
    "channels = ['B4','B3','B2']\n",
    "\n",
    "original = Image(url=toa.select(channels).getThumbUrl({\n",
    "                'region':region,\n",
    "                'min':0,\n",
    "                'max':0.25\n",
    "                }))\n",
    "\n",
    "corrected = Image(url=ref.select(channels).getThumbUrl({\n",
    "                'region':region,\n",
    "                'min':0,\n",
    "                'max':0.25\n",
    "                }))\n",
    "\n",
    "display(original, corrected)"
   ]
  },
  {
   "cell_type": "markdown",
   "metadata": {},
   "source": [
    "### Export to Asset"
   ]
  },
  {
   "cell_type": "code",
   "execution_count": null,
   "metadata": {},
   "outputs": [],
   "source": [
    "# # set some properties for export\n",
    "# dateString = scene_date.strftime(\"%Y-%m-%d\")\n",
    "# ref = ref.set({'satellite':'Sentinel 2',\n",
    "#               'fileID':info['system:index'],\n",
    "#               'date':dateString,\n",
    "#               'aerosol_optical_thickness':aot,\n",
    "#               'water_vapour':h2o,\n",
    "#               'ozone':o3})"
   ]
  },
  {
   "cell_type": "code",
   "execution_count": null,
   "metadata": {
    "collapsed": true
   },
   "outputs": [],
   "source": [
    "# define YOUR assetID \n",
    "# in my case it was something like this..\n",
    "# assetID = 'users/samsammurphy/shared/sentinel2/6S/ESRIN_'+dateString"
   ]
  },
  {
   "cell_type": "code",
   "execution_count": null,
   "metadata": {},
   "outputs": [],
   "source": [
    "# # export\n",
    "# export = ee.batch.Export.image.toAsset(\\\n",
    "#     image=ref,\n",
    "#     description='sentinel2_atmcorr_export',\n",
    "#     assetId = assetID,\n",
    "#     region = region,\n",
    "#     scale = 30)\n",
    "\n",
    "# # uncomment to run the export\n",
    "# export.start() "
   ]
  }
 ],
 "metadata": {
  "anaconda-cloud": {},
  "kernelspec": {
   "display_name": "Python 3",
   "language": "python",
   "name": "python3"
  },
  "language_info": {
   "codemirror_mode": {
    "name": "ipython",
    "version": 3
   },
   "file_extension": ".py",
   "mimetype": "text/x-python",
   "name": "python",
   "nbconvert_exporter": "python",
   "pygments_lexer": "ipython3",
   "version": "3.6.2"
  }
 },
 "nbformat": 4,
 "nbformat_minor": 2
}
